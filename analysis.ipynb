{
 "cells": [
  {
   "cell_type": "markdown",
   "metadata": {},
   "source": [
    "# Dataset analysis\n",
    "\n",
    "The following notebook will be used to examine our dataset for the project. This will be useful so we can understand the nature of our results.\n",
    "\n",
    "## Data exploration\n",
    "First, we load our training set & extract the classes of each tweet."
   ]
  },
  {
   "cell_type": "code",
   "execution_count": 16,
   "metadata": {},
   "outputs": [
    {
     "data": {
      "image/png": "[encoded data removed]",
      "text/plain": [
       "<Figure size 432x288 with 1 Axes>"
      ]
     },
     "metadata": {
      "needs_background": "light"
     },
     "output_type": "display_data"
    }
   ],
   "source": [
    "import matplotlib.pyplot as plt\n",
    "import utils\n",
    "\n",
    "TRAINING_FILE = \"data/covid_training.tsv\"\n",
    "TESTING_FILE = \"data/covid_test_public.tsv\"\n",
    "yes_tweets = utils.total_yes_no(TRAINING_FILE)\n",
    "no_tweets = utils.total_yes_no(TRAINING_FILE, getFactual = False)\n",
    "labels = ['yes', 'no']\n",
    "data = [yes_tweets, no_tweets]\n",
    "\n",
    "plt.bar(labels, data, width=0.5)\n",
    "plt.xlabel('factual')\n",
    "plt.ylabel('number of tweets')\n",
    "plt.title('Training set');"
   ]
  },
  {
   "cell_type": "code",
   "execution_count": 57,
   "metadata": {},
   "outputs": [
    {
     "data": {
      "image/png": "[encoded data removed]",
      "text/plain": [
       "<Figure size 432x288 with 1 Axes>"
      ]
     },
     "metadata": {
      "needs_background": "light"
     },
     "output_type": "display_data"
    }
   ],
   "source": [
    "yes_tweets = utils.total_yes_no(TESTING_FILE)\n",
    "no_tweets = utils.total_yes_no(TESTING_FILE, getFactual = False)\n",
    "labels = ['yes', 'no']\n",
    "data = [yes_tweets, no_tweets]\n",
    "\n",
    "plt.bar(labels, data, width=0.5)\n",
    "plt.xlabel('factual')\n",
    "plt.ylabel('number of tweets')\n",
    "plt.title('Test set');"
   ]
  },
  {
   "cell_type": "markdown",
   "metadata": {},
   "source": [
    "As we can see, there is a slight imbalance between the factual & non-factual tweets. This means that we expect to get a better performance for the Yes class once we experiment with our Naive Bayes model.\n",
    "\n",
    "## Content of tweet\n",
    "We will look at the most frequent words that appear in our dataset."
   ]
  },
  {
   "cell_type": "code",
   "execution_count": 54,
   "metadata": {},
   "outputs": [
    {
     "name": "stdout",
     "output_type": "stream",
     "text": [
      "TRAINING SET\n",
      "\n",
      "\"the\" occurs 453 times\n",
      "\"to\" occurs 335 times\n",
      "\"a\" occurs 262 times\n",
      "\"of\" occurs 229 times\n",
      "\"and\" occurs 227 times\n",
      "\"is\" occurs 200 times\n",
      "\"in\" occurs 181 times\n",
      "\"for\" occurs 124 times\n",
      "\"this\" occurs 121 times\n",
      "\"that\" occurs 112 times\n",
      "TEST SET\n",
      "\n",
      "\"the\" occurs 61 times\n",
      "\"of\" occurs 36 times\n",
      "\"to\" occurs 36 times\n",
      "\"and\" occurs 31 times\n",
      "\"in\" occurs 29 times\n",
      "\"a\" occurs 19 times\n",
      "\"#coronavirus\" occurs 14 times\n",
      "\"are\" occurs 13 times\n",
      "\"all\" occurs 11 times\n",
      "\"cases\" occurs 10 times\n"
     ]
    }
   ],
   "source": [
    "import vocabulary\n",
    "\n",
    "OV = vocabulary.originalVocabulary(TRAINING_FILE)\n",
    "sorted_OV = sorted(OV.items(), key=lambda x:x[1], reverse=True)\n",
    "print(\"TRAINING SET\\n\")\n",
    "for key, pair in sorted_OV[0:10]:\n",
    "    print(f'\\\"{key}\" occurs {pair[0] + pair[1]} times')\n",
    "    \n",
    "OV = vocabulary.originalVocabulary(TESTING_FILE)\n",
    "sorted_OV = sorted(OV.items(), key=lambda x:x[1], reverse=True)\n",
    "print(\"TEST SET\\n\")\n",
    "for key, pair in sorted_OV[0:10]:\n",
    "    print(f'\\\"{key}\" occurs {pair[0] + pair[1]} times')\n",
    "    "
   ]
  },
  {
   "cell_type": "markdown",
   "metadata": {},
   "source": [
    "From the results, we can see that the majority of the terms are stopwords. These words are not indicators of a tweet's validation."
   ]
  }
 ],
 "metadata": {
  "kernelspec": {
   "display_name": "Python 3",
   "language": "python",
   "name": "python3"
  },
  "language_info": {
   "codemirror_mode": {
    "name": "ipython",
    "version": 3
   },
   "file_extension": ".py",
   "mimetype": "text/x-python",
   "name": "python",
   "nbconvert_exporter": "python",
   "pygments_lexer": "ipython3",
   "version": "3.8.5"
  }
 },
 "nbformat": 4,
 "nbformat_minor": 4
}
